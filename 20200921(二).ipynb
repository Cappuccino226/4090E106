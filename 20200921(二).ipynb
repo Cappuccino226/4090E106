{
  "nbformat": 4,
  "nbformat_minor": 0,
  "metadata": {
    "colab": {
      "name": "Untitled2.ipynb",
      "provenance": [],
      "authorship_tag": "ABX9TyMAFKEekijELRXiGVCUJH2H",
      "include_colab_link": true
    },
    "kernelspec": {
      "name": "python3",
      "display_name": "Python 3"
    }
  },
  "cells": [
    {
      "cell_type": "markdown",
      "metadata": {
        "id": "view-in-github",
        "colab_type": "text"
      },
      "source": [
        "<a href=\"https://colab.research.google.com/github/Cappuccino226/4090E106/blob/master/20200921(%E4%BA%8C).ipynb\" target=\"_parent\"><img src=\"https://colab.research.google.com/assets/colab-badge.svg\" alt=\"Open In Colab\"/></a>"
      ]
    },
    {
      "cell_type": "code",
      "metadata": {
        "id": "YKf7BkGpNgJx",
        "colab_type": "code",
        "colab": {
          "base_uri": "https://localhost:8080/",
          "height": 67
        },
        "outputId": "a293499a-958c-418a-94cc-dbc0f878bc09"
      },
      "source": [
        "str1 = '這是字串'\n",
        "print(str1)\n",
        " \n",
        "str2 = \"這也是字串\"\n",
        "print(str2)\n",
        " \n",
        "str3 = 'allows embedded \"double\" quotes'\n",
        "print(str3)"
      ],
      "execution_count": 1,
      "outputs": [
        {
          "output_type": "stream",
          "text": [
            "這是字串\n",
            "這也是字串\n",
            "allows embedded \"double\" quotes\n"
          ],
          "name": "stdout"
        }
      ]
    },
    {
      "cell_type": "code",
      "metadata": {
        "id": "JQfUguDyNuga",
        "colab_type": "code",
        "colab": {
          "base_uri": "https://localhost:8080/",
          "height": 50
        },
        "outputId": "d10f5200-7ebe-4ede-e22e-716dbf8258d3"
      },
      "source": [
        "#!/usr/bin/python\n",
        " \n",
        "var1 = 'Hello Python!'\n",
        " \n",
        "print(\"var1[0]: \", var1[0])\n",
        "print(\"var1[1:8]: \", var1[1:8])"
      ],
      "execution_count": 2,
      "outputs": [
        {
          "output_type": "stream",
          "text": [
            "var1[0]:  H\n",
            "var1[1:8]:  ello Py\n"
          ],
          "name": "stdout"
        }
      ]
    },
    {
      "cell_type": "code",
      "metadata": {
        "id": "MW5up_33Nxki",
        "colab_type": "code",
        "colab": {
          "base_uri": "https://localhost:8080/",
          "height": 50
        },
        "outputId": "5bcc0abe-3329-4545-bc8a-c0a5a1d3db8f"
      },
      "source": [
        "#!/usr/bin/python\n",
        "# -*- coding: UTF-8 -*-\n",
        " \n",
        "str1 = 'Hello World!'\n",
        " \n",
        "print(\"更新前的字串-> \", str1[:])\n",
        "print(\"更新前的字串(也可以這樣寫)-> \", str1)\n",
        "#print(\"更新後的字串-> \", str1[:6] + '\n"
      ],
      "execution_count": 3,
      "outputs": [
        {
          "output_type": "stream",
          "text": [
            "更新前的字串->  Hello World!\n",
            "更新前的字串(也可以這樣寫)->  Hello World!\n"
          ],
          "name": "stdout"
        }
      ]
    },
    {
      "cell_type": "code",
      "metadata": {
        "id": "vDcWsO8hN06U",
        "colab_type": "code",
        "colab": {
          "base_uri": "https://localhost:8080/",
          "height": 34
        },
        "outputId": "90b5fcef-b370-4c3a-f32b-0f5bb20b2d87"
      },
      "source": [
        "str1 = 'Hello World!'\n",
        "str2 = 'Hello World!'\n",
        "str4=str1 + str2\n",
        "print(str4)"
      ],
      "execution_count": 4,
      "outputs": [
        {
          "output_type": "stream",
          "text": [
            "Hello World!Hello World!\n"
          ],
          "name": "stdout"
        }
      ]
    },
    {
      "cell_type": "code",
      "metadata": {
        "id": "j1NHX-E3N2uy",
        "colab_type": "code",
        "colab": {
          "base_uri": "https://localhost:8080/",
          "height": 84
        },
        "outputId": "fd519e65-bbb5-4989-c606-d8e31bb356de"
      },
      "source": [
        "a='Hello  '\n",
        "b='Python!'\n",
        " \n",
        "print(a+b)\n",
        " \n",
        "print(a*2)\n",
        " \n",
        "print(a[1:4])\n",
        " \n",
        "\"H\" in a\n",
        " \n",
        "\"H\" not in a"
      ],
      "execution_count": 5,
      "outputs": [
        {
          "output_type": "stream",
          "text": [
            "Hello  Python!\n",
            "Hello  Hello  \n",
            "ell\n"
          ],
          "name": "stdout"
        },
        {
          "output_type": "execute_result",
          "data": {
            "text/plain": [
              "False"
            ]
          },
          "metadata": {
            "tags": []
          },
          "execution_count": 5
        }
      ]
    },
    {
      "cell_type": "code",
      "metadata": {
        "id": "Y1BFVjSSW-Rn",
        "colab_type": "code",
        "colab": {}
      },
      "source": [
        ""
      ],
      "execution_count": null,
      "outputs": []
    },
    {
      "cell_type": "code",
      "metadata": {
        "id": "YgOijVUOZu4l",
        "colab_type": "code",
        "colab": {
          "base_uri": "https://localhost:8080/",
          "height": 71
        },
        "outputId": "6297f33e-0c78-4418-8e86-c16bd57f6813"
      },
      "source": [
        " def reverse(s): \n",
        "    if len(s) == 0: \n",
        "        return s \n",
        "    else: \n",
        "        return reverse(s[1:]) + s[0] \n",
        "  \n",
        "#s = \"HappyHackingDay\"\n",
        "s = \"BreakAllCTF{HappyHackingDay}\"\n",
        " \n",
        "print (\"The original string  is : \",end=\"\") \n",
        "print (s) \n",
        "  \n",
        "print (\"The reversed string(using recursion) is : \",end=\"\") \n",
        "print (reverse(s))"
      ],
      "execution_count": null,
      "outputs": [
        {
          "output_type": "stream",
          "text": [
            "The original string  is : BreakAllCTF{HappyHackingDay}\n",
            "The reversed string(using recursion) is : }yaDgnikcaHyppaH{FTCllAkaerB\n"
          ],
          "name": "stdout"
        }
      ]
    },
    {
      "cell_type": "code",
      "metadata": {
        "id": "73fl-VtUXMN-",
        "colab_type": "code",
        "colab": {
          "base_uri": "https://localhost:8080/",
          "height": 34
        },
        "outputId": "41fb71a4-4988-491b-9d41-64f0276962f7"
      },
      "source": [
        "str1='happy python day'\n",
        "str2='    Oh!   '\n",
        "str4=str1 + str2\n",
        "print(str4.capitalize())"
      ],
      "execution_count": 6,
      "outputs": [
        {
          "output_type": "stream",
          "text": [
            "Happy python day    oh!   \n"
          ],
          "name": "stdout"
        }
      ]
    },
    {
      "cell_type": "code",
      "metadata": {
        "id": "tEk9uw9YXOqF",
        "colab_type": "code",
        "colab": {
          "base_uri": "https://localhost:8080/",
          "height": 34
        },
        "outputId": "ac3843ec-22c4-4cc1-d60e-c80439c77c27"
      },
      "source": [
        "str1 = 'happy python day'\n",
        "str2 = '    oh!   '\n",
        "str3 = str1+str2\n",
        "str4 = 'python'\n",
        "str3.find('python',0,len(str3))"
      ],
      "execution_count": 7,
      "outputs": [
        {
          "output_type": "execute_result",
          "data": {
            "text/plain": [
              "6"
            ]
          },
          "metadata": {
            "tags": []
          },
          "execution_count": 7
        }
      ]
    },
    {
      "cell_type": "code",
      "metadata": {
        "id": "k3nO1NxoXp70",
        "colab_type": "code",
        "colab": {
          "base_uri": "https://localhost:8080/",
          "height": 34
        },
        "outputId": "de1c7bec-0dcf-4840-db3e-17ff73247d7d"
      },
      "source": [
        "import base64\n",
        "str1 = 'happy python day'\n",
        "str3 = str1.encode(encoding ='utf-8',errors = 'strict');\n",
        "\n",
        "str4= base64.b64encode(str3)\n",
        "print (str4.decode())"
      ],
      "execution_count": 8,
      "outputs": [
        {
          "output_type": "stream",
          "text": [
            "aGFwcHkgcHl0aG9uIGRheQ==\n"
          ],
          "name": "stdout"
        }
      ]
    },
    {
      "cell_type": "code",
      "metadata": {
        "id": "YhDrmAC8Xr1o",
        "colab_type": "code",
        "colab": {
          "base_uri": "https://localhost:8080/",
          "height": 50
        },
        "outputId": "6c855129-4638-4ad0-8399-14b84d6786dc"
      },
      "source": [
        "#!/usr/bin/python\n",
        "# -*- coding: UTF-8 -*-\n",
        " \n",
        "str = \"Python2019\"\n",
        "print(str.isalpha())\n",
        " \n",
        "str = \"Python\"\n",
        "print(str.isalpha())"
      ],
      "execution_count": 9,
      "outputs": [
        {
          "output_type": "stream",
          "text": [
            "False\n",
            "True\n"
          ],
          "name": "stdout"
        }
      ]
    },
    {
      "cell_type": "code",
      "metadata": {
        "id": "5zc9geHxXtuR",
        "colab_type": "code",
        "colab": {
          "base_uri": "https://localhost:8080/",
          "height": 84
        },
        "outputId": "3dac1042-e5d5-4b7a-b052-33a8d8046f79"
      },
      "source": [
        "#!/usr/bin/python\n",
        "# -*- coding: UTF-8 -*-\n",
        " \n",
        "str1 = \"Python2019\"\n",
        "print(str1.isalnum())\n",
        " \n",
        "str2 = \"Python\"\n",
        "print(str2.isalnum())\n",
        " \n",
        "str3 = \"2019\"\n",
        "print(str3.isalnum())\n",
        " \n",
        "str4 = \"Python 2019\"\n",
        "print(str4.isalnum())\n",
        "#@2020 GitHub，Inc."
      ],
      "execution_count": 10,
      "outputs": [
        {
          "output_type": "stream",
          "text": [
            "True\n",
            "True\n",
            "True\n",
            "False\n"
          ],
          "name": "stdout"
        }
      ]
    }
  ]
}