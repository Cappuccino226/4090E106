{
  "nbformat": 4,
  "nbformat_minor": 0,
  "metadata": {
    "colab": {
      "name": "20200921.ipynb",
      "provenance": [],
      "authorship_tag": "ABX9TyNSpFVMy+U7kcRwsFoOLkvK",
      "include_colab_link": true
    },
    "kernelspec": {
      "name": "python3",
      "display_name": "Python 3"
    }
  },
  "cells": [
    {
      "cell_type": "markdown",
      "metadata": {
        "id": "view-in-github",
        "colab_type": "text"
      },
      "source": [
        "<a href=\"https://colab.research.google.com/github/Cappuccino226/4090E106/blob/master/20200921(%E4%B8%80).ipynb\" target=\"_parent\"><img src=\"https://colab.research.google.com/assets/colab-badge.svg\" alt=\"Open In Colab\"/></a>"
      ]
    },
    {
      "cell_type": "code",
      "metadata": {
        "id": "mXVQ5B5nM2vD",
        "colab_type": "code",
        "colab": {
          "base_uri": "https://localhost:8080/",
          "height": 134
        },
        "outputId": "a68e16ed-357f-4e36-fb13-04145964c979"
      },
      "source": [
        "import pandas as pd\n",
        "print(\"pandas version: %s\" % pd.__version__)\n",
        "\n",
        "import matplotlib\n",
        "print(\"matplotlib version: %s\" % matplotlib.__version__)\n",
        "\n",
        "import numpy as np\n",
        "print(\"numpy version: %s\" % np.__version__)\n",
        "\n",
        "import sklearn\n",
        "print(\"scikit-learn version: %s\" % sklearn.__version__)\n",
        "\n",
        "import tensorflow as tf\n",
        "print(\"tensorflow version: %s\" % tf.__version__)\n",
        "\n",
        "import torch\n",
        "print(\"PyTorch version: %s\" %torch.__version__)\n",
        "print(\"2020年3月PyTorch version最新版本 是1.4 請參閱https://pytorch.org/\")"
      ],
      "execution_count": 1,
      "outputs": [
        {
          "output_type": "stream",
          "text": [
            "pandas version: 1.0.5\n",
            "matplotlib version: 3.2.2\n",
            "numpy version: 1.18.5\n",
            "scikit-learn version: 0.22.2.post1\n",
            "tensorflow version: 2.3.0\n",
            "PyTorch version: 1.6.0+cu101\n",
            "2020年3月PyTorch version最新版本 是1.4 請參閱https://pytorch.org/\n"
          ],
          "name": "stdout"
        }
      ]
    },
    {
      "cell_type": "code",
      "metadata": {
        "id": "_hQyWFf2NCMV",
        "colab_type": "code",
        "colab": {
          "base_uri": "https://localhost:8080/",
          "height": 50
        },
        "outputId": "f4c0433c-5c84-4e67-a817-dd65ace703bf"
      },
      "source": [
        "# -*- coding: utf-8 -*-\n",
        "x = input('Enter your name:')\n",
        "print('Hello, ' + x)"
      ],
      "execution_count": 2,
      "outputs": [
        {
          "output_type": "stream",
          "text": [
            "Enter your name:4090E106\n",
            "Hello, 4090E106\n"
          ],
          "name": "stdout"
        }
      ]
    },
    {
      "cell_type": "code",
      "metadata": {
        "id": "7E-JYCTXNHiZ",
        "colab_type": "code",
        "colab": {
          "base_uri": "https://localhost:8080/",
          "height": 52
        },
        "outputId": "546d0942-12fe-4dfd-ec1c-619ae202e90b"
      },
      "source": [
        "a = input(\"請輸入：\")\n",
        "a"
      ],
      "execution_count": 3,
      "outputs": [
        {
          "output_type": "stream",
          "text": [
            "請輸入：19\n"
          ],
          "name": "stdout"
        },
        {
          "output_type": "execute_result",
          "data": {
            "application/vnd.google.colaboratory.intrinsic+json": {
              "type": "string"
            },
            "text/plain": [
              "'19'"
            ]
          },
          "metadata": {
            "tags": []
          },
          "execution_count": 3
        }
      ]
    },
    {
      "cell_type": "code",
      "metadata": {
        "id": "4Cz23PtcNOkK",
        "colab_type": "code",
        "colab": {
          "base_uri": "https://localhost:8080/",
          "height": 180
        },
        "outputId": "b7171302-b2e8-401b-a82b-f694068a8e7c"
      },
      "source": [
        "b=a+30\n",
        "b"
      ],
      "execution_count": 4,
      "outputs": [
        {
          "output_type": "error",
          "ename": "TypeError",
          "evalue": "ignored",
          "traceback": [
            "\u001b[0;31m---------------------------------------------------------------------------\u001b[0m",
            "\u001b[0;31mTypeError\u001b[0m                                 Traceback (most recent call last)",
            "\u001b[0;32m<ipython-input-4-d93de427b1a2>\u001b[0m in \u001b[0;36m<module>\u001b[0;34m()\u001b[0m\n\u001b[0;32m----> 1\u001b[0;31m \u001b[0mb\u001b[0m\u001b[0;34m=\u001b[0m\u001b[0ma\u001b[0m\u001b[0;34m+\u001b[0m\u001b[0;36m30\u001b[0m\u001b[0;34m\u001b[0m\u001b[0;34m\u001b[0m\u001b[0m\n\u001b[0m\u001b[1;32m      2\u001b[0m \u001b[0mb\u001b[0m\u001b[0;34m\u001b[0m\u001b[0;34m\u001b[0m\u001b[0m\n",
            "\u001b[0;31mTypeError\u001b[0m: must be str, not int"
          ]
        }
      ]
    },
    {
      "cell_type": "code",
      "metadata": {
        "id": "4bSu5kXJNRFa",
        "colab_type": "code",
        "colab": {
          "base_uri": "https://localhost:8080/",
          "height": 50
        },
        "outputId": "1852c32d-42ce-4f4e-a9ab-29fde1c02966"
      },
      "source": [
        "a = eval(input(\"請輸入：\"))\n",
        "a"
      ],
      "execution_count": 5,
      "outputs": [
        {
          "output_type": "stream",
          "text": [
            "請輸入：19\n"
          ],
          "name": "stdout"
        },
        {
          "output_type": "execute_result",
          "data": {
            "text/plain": [
              "19"
            ]
          },
          "metadata": {
            "tags": []
          },
          "execution_count": 5
        }
      ]
    },
    {
      "cell_type": "code",
      "metadata": {
        "id": "_5z8lmMKNWCb",
        "colab_type": "code",
        "colab": {
          "base_uri": "https://localhost:8080/",
          "height": 34
        },
        "outputId": "e84bc201-09ea-4abb-f455-12e9e5191018"
      },
      "source": [
        "b=a+30\n",
        "b"
      ],
      "execution_count": 6,
      "outputs": [
        {
          "output_type": "execute_result",
          "data": {
            "text/plain": [
              "49"
            ]
          },
          "metadata": {
            "tags": []
          },
          "execution_count": 6
        }
      ]
    }
  ]
}