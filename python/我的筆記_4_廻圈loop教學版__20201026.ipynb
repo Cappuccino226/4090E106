{
  "nbformat": 4,
  "nbformat_minor": 0,
  "metadata": {
    "colab": {
      "name": "我的筆記_4_廻圈loop教學版_ 20201026.ipynb",
      "provenance": [],
      "collapsed_sections": []
    },
    "kernelspec": {
      "name": "python3",
      "display_name": "Python 3"
    }
  },
  "cells": [
    {
      "cell_type": "markdown",
      "metadata": {
        "id": "e2h0oGIHezSa"
      },
      "source": [
        "# 4_廻圈loop\n",
        "\n",
        "## 課程目標：\n",
        "```\n",
        "[1].使用range 函式 的功能建立整數循序數列\n",
        "\n",
        "[2].使用for 廻圈 執行固定次數的廻圈運算(通常)\n",
        "[3].使用while 廻圈執行沒有固定次數的廻圈運算\n",
        "\n",
        "[4].continue 指令 \n",
        "  是在廻圈執行中途暫時停住不往下執行，而跳到廻圈的起始處執行\n",
        "[5].break 指令:可在廻圈執行中途強迫跳離廻圈，跳到廻圈後面的程式繼續執行。\n",
        "\n",
        "[6].廻圈中又包含廻圈的巢狀廻圈(Nested Loop)　===>設計九九乘法表\n",
        "```\n",
        "```\n",
        "PS:Python沒有do… while 廻圈\n",
        "你自己實作一個吧?!!\n",
        "```"
      ]
    },
    {
      "cell_type": "markdown",
      "metadata": {
        "id": "3HJ3ouzrXvxd"
      },
      "source": [
        "\n",
        "# 1.range() 函式\n",
        "```\n",
        " 使用range 函式 的建立整數循序數列\n",
        " \n",
        "變數1 = range(整數值)\n",
        "變數2 = range(起始值, 終止值)\n",
        "變數3 = range(起始值, 終止值, 多少間隔)\n",
        "```\n",
        "### 變數1 = range(整數值)\n",
        "\n",
        "底下程式執行後結果為何?\n",
        "```\n",
        "list1=range(10)\n",
        "print(list1)\n",
        "\n",
        "print(list(list1))\n",
        "```"
      ]
    },
    {
      "cell_type": "code",
      "metadata": {
        "id": "PstCXkeu1QGL",
        "colab": {
          "base_uri": "https://localhost:8080/"
        },
        "outputId": "8ad89688-7c56-40d6-998a-fac3aebb2d10"
      },
      "source": [
        "list1=range(10)\r\n",
        "print(list1)\r\n",
        " \r\n",
        "print(list(list1))"
      ],
      "execution_count": null,
      "outputs": [
        {
          "output_type": "stream",
          "text": [
            "range(0, 10)\n",
            "[0, 1, 2, 3, 4, 5, 6, 7, 8, 9]\n"
          ],
          "name": "stdout"
        }
      ]
    },
    {
      "cell_type": "markdown",
      "metadata": {
        "id": "Ss6NYU7D3a3d"
      },
      "source": [
        "#1.筆記\r\n",
        "##變數1 = range(整數值)\r\n",
        "###list1=range(10) \r\n",
        "###print(list1) \r\n",
        "###print(list(list1))\r\n",
        "```\r\n",
        "執行結果如下:range(0, 10)\r\n",
        "      [0, 1, 2, 3, 4, 5, 6, 7, 8, 9]\r\n",
        "      \r\n",
        "\"0\"是第零位,\"9\"是第十位\r\n",
        "```"
      ]
    },
    {
      "cell_type": "markdown",
      "metadata": {
        "id": "4vp4Bukue2Vf"
      },
      "source": [
        "### 變數2 = range(起始值, 終止值)\n",
        "\n",
        "底下程式執行後結果為何?\n",
        "```\n",
        "list2=range(-4,5)\n",
        "print(list(list2))\n",
        "```"
      ]
    },
    {
      "cell_type": "code",
      "metadata": {
        "colab": {
          "base_uri": "https://localhost:8080/"
        },
        "id": "e55J0zQXZAmB",
        "outputId": "9161e6a6-81b6-4cef-ace7-b1adaaec09d4"
      },
      "source": [
        "list2=range(-4,5)\n",
        "print(list(list2))"
      ],
      "execution_count": null,
      "outputs": [
        {
          "output_type": "stream",
          "text": [
            "[-4, -3, -2, -1, 0, 1, 2, 3, 4]\n"
          ],
          "name": "stdout"
        }
      ]
    },
    {
      "cell_type": "markdown",
      "metadata": {
        "id": "b7ryymVR3hqJ"
      },
      "source": [
        "#2.筆記\r\n",
        "##變數2 = range(起始值, 終止值)\r\n",
        "###list2=range(-4,5)   \r\n",
        "###print(list(list2))\r\n",
        "```\r\n",
        "執行結果:[-4, -3, -2, -1, 0, 1, 2, 3, 4]\r\n",
        "\r\n",
        "\"-4\"起始,\"5\"終止  \"5\"不顯示\r\n",
        "```"
      ]
    },
    {
      "cell_type": "markdown",
      "metadata": {
        "id": "0vLZKwq4e4nF"
      },
      "source": [
        "### 變數3 = range(起始值, 終止值, 多少間隔)\n",
        "\n",
        "底下程式執行後結果為何?\n",
        "```\n",
        "list3=range(-4,5,2)\n",
        "print(list(list3))\n",
        "```"
      ]
    },
    {
      "cell_type": "code",
      "metadata": {
        "colab": {
          "base_uri": "https://localhost:8080/"
        },
        "id": "1UWW0ulKZDJa",
        "outputId": "a6453e51-de42-493f-df72-7761935bbb99"
      },
      "source": [
        "list3=range(-4,5,2)\n",
        "print(list(list3))"
      ],
      "execution_count": null,
      "outputs": [
        {
          "output_type": "stream",
          "text": [
            "[-4, -2, 0, 2, 4]\n"
          ],
          "name": "stdout"
        }
      ]
    },
    {
      "cell_type": "markdown",
      "metadata": {
        "id": "W9WqQxRs4hPj"
      },
      "source": [
        "#3.筆記\r\n",
        "##變數3 = range(起始值, 終止值, 多少間隔) \r\n",
        "###list3=range(-4,5,2)\r\n",
        "###print(list(list3))\r\n",
        "```\r\n",
        "執行結果:[-4, -2, 0, 2, 4]\r\n",
        "\r\n",
        "\"-4\"=起始值\r\n",
        "\r\n",
        "\"5\"=終止值\r\n",
        "\r\n",
        "\"2\"=多少間隔\r\n",
        "```"
      ]
    },
    {
      "cell_type": "markdown",
      "metadata": {
        "id": "4NhGp8bDe7jk"
      },
      "source": [
        "底下程式執行後結果為何?\n",
        "```\n",
        "list4=range(-4,6,2)\n",
        "print(list(list4))\n",
        "```"
      ]
    },
    {
      "cell_type": "code",
      "metadata": {
        "id": "W6sCMHKRhKKF",
        "colab": {
          "base_uri": "https://localhost:8080/"
        },
        "outputId": "e8add567-07e1-43f2-fcd8-f24206fc71e3"
      },
      "source": [
        "list4=range(-4,8,2)\n",
        "print(list(list4))"
      ],
      "execution_count": null,
      "outputs": [
        {
          "output_type": "stream",
          "text": [
            "[-4, -2, 0, 2, 4, 6]\n"
          ],
          "name": "stdout"
        }
      ]
    },
    {
      "cell_type": "markdown",
      "metadata": {
        "id": "MpBknYloe91x"
      },
      "source": [
        "# [2]for 廻圈 \n",
        "```\n",
        "使用for 廻圈 執行固定次數的廻圈運算(通常)\n",
        "```\n",
        "底下程式執行後結果為何?\n",
        "```\n",
        "for n in range(5):\n",
        "  print(n)\n",
        "```"
      ]
    },
    {
      "cell_type": "code",
      "metadata": {
        "colab": {
          "base_uri": "https://localhost:8080/"
        },
        "id": "qrmSCMu-ZFm9",
        "outputId": "9cfa8f74-cc8b-4243-e4de-5ffec64a88ed"
      },
      "source": [
        "for n in range(5):\n",
        "  print(n)"
      ],
      "execution_count": null,
      "outputs": [
        {
          "output_type": "stream",
          "text": [
            "0\n",
            "1\n",
            "2\n",
            "3\n",
            "4\n"
          ],
          "name": "stdout"
        }
      ]
    },
    {
      "cell_type": "markdown",
      "metadata": {
        "id": "GSdA3C5T5XlW"
      },
      "source": [
        "#4.筆記\r\n",
        "###for n in range(5):\r\n",
        "###print(n)\r\n",
        "```\r\n",
        "執行結果: \r\n",
        "  0\r\n",
        "  1\r\n",
        "  2\r\n",
        "  3\r\n",
        "  4\r\n",
        "以\"0\"為(第零位),\"4\"為(第五位)\r\n",
        "```\r\n"
      ]
    },
    {
      "cell_type": "markdown",
      "metadata": {
        "id": "wV5Lu7kqX_hg"
      },
      "source": [
        "續上題:\n",
        "```\n",
        "要如何輸出 0 1 2 3 4\n",
        "而不是\n",
        "0\n",
        "1\n",
        "2\n",
        "3\n",
        "4\n",
        "```"
      ]
    },
    {
      "cell_type": "markdown",
      "metadata": {
        "id": "4PyNqd2ge__o"
      },
      "source": [
        "底下程式執行後結果為何?\n",
        "```\n",
        "for n in range(10):\n",
        "    print(n, end='@')\n",
        "\n",
        "    #print(n, end='%%%%')\n",
        "```"
      ]
    },
    {
      "cell_type": "code",
      "metadata": {
        "colab": {
          "base_uri": "https://localhost:8080/"
        },
        "id": "hF4lEv8pZNPG",
        "outputId": "59980ec2-d013-4bc6-fff6-2cf00ee7a834"
      },
      "source": [
        "for n in range(10):\n",
        "    print(n, end='@')\n",
        " \n",
        "    #print(n, end='%%%%')"
      ],
      "execution_count": null,
      "outputs": [
        {
          "output_type": "stream",
          "text": [
            "0@1@2@3@4@5@6@7@8@9@"
          ],
          "name": "stdout"
        }
      ]
    },
    {
      "cell_type": "markdown",
      "metadata": {
        "id": "1VNt1UP86Rmn"
      },
      "source": [
        "#5.筆記\r\n",
        "###for n in range(10):\r\n",
        "###print(n, end='@')\r\n",
        "###(#)print(n, end='%%%%')\r\n",
        "```\r\n",
        "在0123456789共10位裡面間隔中間加入@\r\n",
        "也可以擇一,總之就是加入符號\r\n",
        "```"
      ]
    },
    {
      "cell_type": "markdown",
      "metadata": {
        "id": "ywXkVIIqfCSX"
      },
      "source": [
        "底下程式執行後結果為何?\n",
        "```\n",
        "mysum = 0\n",
        "\n",
        "for n in range(5):\n",
        "  mysum += n\n",
        "  print(mysum)\n",
        "```"
      ]
    },
    {
      "cell_type": "code",
      "metadata": {
        "colab": {
          "base_uri": "https://localhost:8080/"
        },
        "id": "z81M0soqZSVi",
        "outputId": "c81e175a-f5a1-4d41-bc7b-8fe9204ab270"
      },
      "source": [
        "mysum = 0\n",
        " \n",
        "for n in range(5):\n",
        "  mysum += n\n",
        "  print(mysum)"
      ],
      "execution_count": null,
      "outputs": [
        {
          "output_type": "stream",
          "text": [
            "0\n",
            "1\n",
            "3\n",
            "6\n",
            "10\n"
          ],
          "name": "stdout"
        }
      ]
    },
    {
      "cell_type": "markdown",
      "metadata": {
        "id": "NHNaJOl6fEwN"
      },
      "source": [
        "底下程式執行後結果為何?\n",
        "```\n",
        "mysum = 0\n",
        "\n",
        "for n in range(5):\n",
        "  mysum += n\n",
        "\n",
        "print(mysum)\n",
        "```"
      ]
    },
    {
      "cell_type": "code",
      "metadata": {
        "colab": {
          "base_uri": "https://localhost:8080/"
        },
        "id": "XRewyKAlZY9Y",
        "outputId": "320fc200-2bc6-45bb-dc45-2dfdc92f60e7"
      },
      "source": [
        "mysum = 0\n",
        " \n",
        "for n in range(5):\n",
        "  mysum += n\n",
        " \n",
        "print(mysum)"
      ],
      "execution_count": null,
      "outputs": [
        {
          "output_type": "stream",
          "text": [
            "10\n"
          ],
          "name": "stdout"
        }
      ]
    },
    {
      "cell_type": "markdown",
      "metadata": {
        "id": "jqcI-wsBY93E"
      },
      "source": [
        "## [程式閱讀題]\n",
        "\n",
        "執行下列程式並說明其結果\n",
        "```\n",
        "x = int(input(\"請輸入一個正整數:\"))\n",
        "my_result = 1\n",
        " \n",
        "for n in range(x):\n",
        "  my_result *= n\n",
        " \n",
        "print(my_result)\n",
        "```"
      ]
    },
    {
      "cell_type": "code",
      "metadata": {
        "colab": {
          "base_uri": "https://localhost:8080/"
        },
        "id": "xsXE28xoZaua",
        "outputId": "ab900c8c-20de-40f8-fdfc-b92f69f1a473"
      },
      "source": [
        "x = int(input(\"請輸入一個正整數:\"))\n",
        "my_result = 1\n",
        " \n",
        "for n in range(x):\n",
        "  my_result *= n\n",
        " \n",
        "print(my_result)"
      ],
      "execution_count": null,
      "outputs": [
        {
          "output_type": "stream",
          "text": [
            "請輸入一個正整數:8\n",
            "0\n"
          ],
          "name": "stdout"
        }
      ]
    },
    {
      "cell_type": "markdown",
      "metadata": {
        "id": "DTeu-MweD7oZ"
      },
      "source": [
        "執行下列程式並說明其結果\n",
        "```\n",
        "x = int(input(\"請輸入一個正整數:\"))\n",
        "my_result = 1\n",
        "\n",
        "for n in range(1,x+1):\n",
        "  my_result *= n\n",
        "\n",
        "print(my_result)\n",
        "```"
      ]
    },
    {
      "cell_type": "code",
      "metadata": {
        "colab": {
          "base_uri": "https://localhost:8080/"
        },
        "id": "l2PmFoFxZiCB",
        "outputId": "24e59e91-d47e-4e6d-c097-aaa871f05cef"
      },
      "source": [
        "x = int(input(\"請輸入一個正整數:\"))\n",
        "my_result = 1\n",
        " \n",
        "for n in range(1,x+1):\n",
        "  my_result *= n\n",
        " \n",
        "print(my_result)"
      ],
      "execution_count": null,
      "outputs": [
        {
          "output_type": "stream",
          "text": [
            "請輸入一個正整數:6\n",
            "720\n"
          ],
          "name": "stdout"
        }
      ]
    },
    {
      "cell_type": "markdown",
      "metadata": {
        "id": "ZOTul6c4fGr9"
      },
      "source": [
        "底下程式執行後結果為何?\n",
        "```\n",
        "x = int(input(\"請輸入一個正整數:\"))\n",
        "mysum = 0\n",
        "\n",
        "for n in range(x):\n",
        "  mysum += n\n",
        "\n",
        "print(mysum)\n",
        "```"
      ]
    },
    {
      "cell_type": "code",
      "metadata": {
        "colab": {
          "base_uri": "https://localhost:8080/"
        },
        "id": "kVYQ_6u8ZsQf",
        "outputId": "1c73c1dc-74f7-4ab2-a518-270d4d9827d3"
      },
      "source": [
        "x = int(input(\"請輸入一個正整數:\"))\n",
        "mysum = 0\n",
        " \n",
        "for n in range(x):\n",
        "  mysum += n\n",
        " \n",
        "print(mysum)"
      ],
      "execution_count": null,
      "outputs": [
        {
          "output_type": "stream",
          "text": [
            "請輸入一個正整數:6\n",
            "15\n"
          ],
          "name": "stdout"
        }
      ]
    },
    {
      "cell_type": "markdown",
      "metadata": {
        "id": "KLo5Uf0pEFTJ"
      },
      "source": [
        "底下程式執行後結果為何?\n",
        "```\n",
        "x = int(input(\"請輸入一個正整數:\"))\n",
        "mysum = 0\n",
        " \n",
        "for n in range(x+1):\n",
        "  mysum += n\n",
        " \n",
        "print(mysum)\n",
        "```"
      ]
    },
    {
      "cell_type": "code",
      "metadata": {
        "colab": {
          "base_uri": "https://localhost:8080/"
        },
        "id": "95Nv7mOKZvHq",
        "outputId": "1d4e78f3-a564-40d1-f149-7435263275a3"
      },
      "source": [
        "x = int(input(\"請輸入一個正整數:\"))\n",
        "mysum = 0\n",
        " \n",
        "for n in range(x+1):\n",
        "  mysum += n\n",
        " \n",
        "print(mysum)"
      ],
      "execution_count": null,
      "outputs": [
        {
          "output_type": "stream",
          "text": [
            "請輸入一個正整數:6\n",
            "21\n"
          ],
          "name": "stdout"
        }
      ]
    },
    {
      "cell_type": "markdown",
      "metadata": {
        "id": "b3zTqDOOfJdT"
      },
      "source": [
        "底下程式執行後結果為何?\n",
        "```\n",
        "\n",
        "numbers = [21, 4, 35, 1, 8, 7, 3, 6, 9]\n",
        "my_numbers = []\n",
        "\n",
        "for number in numbers:\n",
        "  if (number % 2 != 0): \n",
        "    my_numbers.append(number)\n",
        "\n",
        "print(my_numbers)\n",
        "```"
      ]
    },
    {
      "cell_type": "code",
      "metadata": {
        "colab": {
          "base_uri": "https://localhost:8080/"
        },
        "id": "UiIJSPXiZxtk",
        "outputId": "086ac576-6495-42ef-882c-ac3cae27c6b0"
      },
      "source": [
        "numbers = [21, 4, 35, 1, 8, 7, 3, 6, 9]\n",
        "my_numbers = []\n",
        " \n",
        "for number in numbers:\n",
        "  if (number % 2 != 0): \n",
        "    my_numbers.append(number)\n",
        " \n",
        "print(my_numbers)"
      ],
      "execution_count": null,
      "outputs": [
        {
          "output_type": "stream",
          "text": [
            "[21, 35, 1, 7, 3, 9]\n"
          ],
          "name": "stdout"
        }
      ]
    },
    {
      "cell_type": "markdown",
      "metadata": {
        "id": "fkiX1kJjfOWe"
      },
      "source": [
        "### [程式閱讀題]\n",
        "上述程式如果第五行改成  if (number % 2 = 0):答案會是甚麼??"
      ]
    },
    {
      "cell_type": "code",
      "metadata": {
        "id": "-i0Bcxg_hlbq",
        "colab": {
          "base_uri": "https://localhost:8080/"
        },
        "outputId": "d482ffaa-4847-4d39-c002-027b5caa2042"
      },
      "source": [
        "numbers = [21, 4, 35, 1, 8, 7, 3, 6, 9]\n",
        "my_numbers = []\n",
        " \n",
        "for number in numbers:\n",
        "  if (number % 2 == 0): \n",
        "    my_numbers.append(number)\n",
        " \n",
        "print(my_numbers)"
      ],
      "execution_count": null,
      "outputs": [
        {
          "output_type": "stream",
          "text": [
            "[4, 8, 6]\n"
          ],
          "name": "stdout"
        }
      ]
    },
    {
      "cell_type": "markdown",
      "metadata": {
        "id": "4GnsMv0pfSbH"
      },
      "source": [
        "# [3]While Loop\n",
        "```\n",
        "### n階程的計算:n!=1*2*3*⋯*n\n",
        "1!　=　１\n",
        "2!　=　1*2　=　2\n",
        "3!　=　1*2*3　=　6\n",
        "```\n",
        "```\n",
        "輸入::一個正整數 n\n",
        "輸出::n!\n",
        "\n",
        "當使用者輸入一個正整數 n 後，程式就會顯示\n",
        "1*2*3*...*n 的乘積\n",
        "```\n",
        "```\n",
        "請使用 while loop設計這個程式\n",
        "```\n",
        "```\n",
        "total = i = 1\n",
        "\n",
        "n = int(input(\"請輸入正整數 n 的值：\"))\n",
        "\n",
        "while(i<=n):\n",
        "    total *= i  \n",
        "    i+=1      \n",
        "\n",
        "print(\"%d!=%d\" % (n, total))\n",
        "```"
      ]
    },
    {
      "cell_type": "code",
      "metadata": {
        "colab": {
          "base_uri": "https://localhost:8080/"
        },
        "id": "S19_7t3FZ9yP",
        "outputId": "e10b3312-8435-45d2-8d30-fd1c38381ea7"
      },
      "source": [
        "total = i = 1\n",
        " \n",
        "n = int(input(\"請輸入正整數 n 的值：\"))\n",
        " \n",
        "while(i<=n):\n",
        "    total *= i  \n",
        "    i+=1      \n",
        " \n",
        "print(\"%d!=%d\" % (n, total))"
      ],
      "execution_count": null,
      "outputs": [
        {
          "output_type": "stream",
          "text": [
            "請輸入正整數 n 的值：5\n",
            "5!=120\n"
          ],
          "name": "stdout"
        }
      ]
    },
    {
      "cell_type": "markdown",
      "metadata": {
        "id": "37Ozw08FAYcq"
      },
      "source": [
        "https://officeguide.cc/python-string-formatters-tutorial/"
      ]
    },
    {
      "cell_type": "markdown",
      "metadata": {
        "id": "Mov9GOnvfXZZ"
      },
      "source": [
        "# [4]break 指令\n",
        "```\n",
        "可在廻圈執行中途強迫跳離廻圈，跳到廻圈後面的程式繼續執行。\n",
        "```\n",
        "底下程式執行後結果為何?\n",
        "```\n",
        "fruits = [\"香蕉\",\"蘋果\",\"橘子\",\"鳳梨\",\"西瓜\"]\n",
        "\n",
        "while True:\n",
        "    fruit = input(\"請輸入喜歡的水果(Enter 結束)：\")\n",
        "\n",
        "  #  if (fruit==\"\"):\n",
        "  #      break\n",
        "\n",
        "    n = fruits.count(fruit) \n",
        "    if (n>0):  # 串列元素存在\n",
        "        p=fruits.index(fruit)\n",
        "        print(\"%s 在串列中的第 %d 項\" %(fruit,p+1))\n",
        "    else:\n",
        "        print(fruit,\"不在串列中!\")\n",
        "```"
      ]
    },
    {
      "cell_type": "code",
      "metadata": {
        "colab": {
          "base_uri": "https://localhost:8080/",
          "height": 691
        },
        "id": "gLJFjGt4aOuw",
        "outputId": "1cbf3ba1-e56d-438b-dcca-0a4f6b5997e5"
      },
      "source": [
        "fruits = [\"香蕉\",\"蘋果\",\"橘子\",\"鳳梨\",\"西瓜\"]\n",
        " \n",
        "while True:\n",
        "    fruit = input(\"請輸入喜歡的水果(Enter 結束)：\")\n",
        " \n",
        "  #  if (fruit==\"\"):\n",
        "  #      break\n",
        " \n",
        "    n = fruits.count(fruit) \n",
        "    if (n>0):  # 串列元素存在\n",
        "        p=fruits.index(fruit)\n",
        "        print(\"%s 在串列中的第 %d 項\" %(fruit,p+1))\n",
        "    else:\n",
        "        print(fruit,\"不在串列中!\")"
      ],
      "execution_count": null,
      "outputs": [
        {
          "output_type": "stream",
          "text": [
            "請輸入喜歡的水果(Enter 結束)：香蕉\n",
            "香蕉 在串列中的第 1 項\n",
            "請輸入喜歡的水果(Enter 結束)：\n",
            " 不在串列中!\n",
            "請輸入喜歡的水果(Enter 結束)：end\n",
            "end 不在串列中!\n",
            "請輸入喜歡的水果(Enter 結束)：fruits\n",
            "fruits 不在串列中!\n",
            "請輸入喜歡的水果(Enter 結束)：\n",
            " 不在串列中!\n"
          ],
          "name": "stdout"
        },
        {
          "output_type": "error",
          "ename": "KeyboardInterrupt",
          "evalue": "ignored",
          "traceback": [
            "\u001b[0;31m---------------------------------------------------------------------------\u001b[0m",
            "\u001b[0;31mKeyboardInterrupt\u001b[0m                         Traceback (most recent call last)",
            "\u001b[0;32m/usr/local/lib/python3.6/dist-packages/ipykernel/kernelbase.py\u001b[0m in \u001b[0;36m_input_request\u001b[0;34m(self, prompt, ident, parent, password)\u001b[0m\n\u001b[1;32m    728\u001b[0m             \u001b[0;32mtry\u001b[0m\u001b[0;34m:\u001b[0m\u001b[0;34m\u001b[0m\u001b[0;34m\u001b[0m\u001b[0m\n\u001b[0;32m--> 729\u001b[0;31m                 \u001b[0mident\u001b[0m\u001b[0;34m,\u001b[0m \u001b[0mreply\u001b[0m \u001b[0;34m=\u001b[0m \u001b[0mself\u001b[0m\u001b[0;34m.\u001b[0m\u001b[0msession\u001b[0m\u001b[0;34m.\u001b[0m\u001b[0mrecv\u001b[0m\u001b[0;34m(\u001b[0m\u001b[0mself\u001b[0m\u001b[0;34m.\u001b[0m\u001b[0mstdin_socket\u001b[0m\u001b[0;34m,\u001b[0m \u001b[0;36m0\u001b[0m\u001b[0;34m)\u001b[0m\u001b[0;34m\u001b[0m\u001b[0;34m\u001b[0m\u001b[0m\n\u001b[0m\u001b[1;32m    730\u001b[0m             \u001b[0;32mexcept\u001b[0m \u001b[0mException\u001b[0m\u001b[0;34m:\u001b[0m\u001b[0;34m\u001b[0m\u001b[0;34m\u001b[0m\u001b[0m\n",
            "\u001b[0;32m/usr/local/lib/python3.6/dist-packages/jupyter_client/session.py\u001b[0m in \u001b[0;36mrecv\u001b[0;34m(self, socket, mode, content, copy)\u001b[0m\n\u001b[1;32m    802\u001b[0m         \u001b[0;32mtry\u001b[0m\u001b[0;34m:\u001b[0m\u001b[0;34m\u001b[0m\u001b[0;34m\u001b[0m\u001b[0m\n\u001b[0;32m--> 803\u001b[0;31m             \u001b[0mmsg_list\u001b[0m \u001b[0;34m=\u001b[0m \u001b[0msocket\u001b[0m\u001b[0;34m.\u001b[0m\u001b[0mrecv_multipart\u001b[0m\u001b[0;34m(\u001b[0m\u001b[0mmode\u001b[0m\u001b[0;34m,\u001b[0m \u001b[0mcopy\u001b[0m\u001b[0;34m=\u001b[0m\u001b[0mcopy\u001b[0m\u001b[0;34m)\u001b[0m\u001b[0;34m\u001b[0m\u001b[0;34m\u001b[0m\u001b[0m\n\u001b[0m\u001b[1;32m    804\u001b[0m         \u001b[0;32mexcept\u001b[0m \u001b[0mzmq\u001b[0m\u001b[0;34m.\u001b[0m\u001b[0mZMQError\u001b[0m \u001b[0;32mas\u001b[0m \u001b[0me\u001b[0m\u001b[0;34m:\u001b[0m\u001b[0;34m\u001b[0m\u001b[0;34m\u001b[0m\u001b[0m\n",
            "\u001b[0;32m/usr/local/lib/python3.6/dist-packages/zmq/sugar/socket.py\u001b[0m in \u001b[0;36mrecv_multipart\u001b[0;34m(self, flags, copy, track)\u001b[0m\n\u001b[1;32m    565\u001b[0m         \"\"\"\n\u001b[0;32m--> 566\u001b[0;31m         \u001b[0mparts\u001b[0m \u001b[0;34m=\u001b[0m \u001b[0;34m[\u001b[0m\u001b[0mself\u001b[0m\u001b[0;34m.\u001b[0m\u001b[0mrecv\u001b[0m\u001b[0;34m(\u001b[0m\u001b[0mflags\u001b[0m\u001b[0;34m,\u001b[0m \u001b[0mcopy\u001b[0m\u001b[0;34m=\u001b[0m\u001b[0mcopy\u001b[0m\u001b[0;34m,\u001b[0m \u001b[0mtrack\u001b[0m\u001b[0;34m=\u001b[0m\u001b[0mtrack\u001b[0m\u001b[0;34m)\u001b[0m\u001b[0;34m]\u001b[0m\u001b[0;34m\u001b[0m\u001b[0;34m\u001b[0m\u001b[0m\n\u001b[0m\u001b[1;32m    567\u001b[0m         \u001b[0;31m# have first part already, only loop while more to receive\u001b[0m\u001b[0;34m\u001b[0m\u001b[0;34m\u001b[0m\u001b[0;34m\u001b[0m\u001b[0m\n",
            "\u001b[0;32mzmq/backend/cython/socket.pyx\u001b[0m in \u001b[0;36mzmq.backend.cython.socket.Socket.recv\u001b[0;34m()\u001b[0m\n",
            "\u001b[0;32mzmq/backend/cython/socket.pyx\u001b[0m in \u001b[0;36mzmq.backend.cython.socket.Socket.recv\u001b[0;34m()\u001b[0m\n",
            "\u001b[0;32mzmq/backend/cython/socket.pyx\u001b[0m in \u001b[0;36mzmq.backend.cython.socket._recv_copy\u001b[0;34m()\u001b[0m\n",
            "\u001b[0;32m/usr/local/lib/python3.6/dist-packages/zmq/backend/cython/checkrc.pxd\u001b[0m in \u001b[0;36mzmq.backend.cython.checkrc._check_rc\u001b[0;34m()\u001b[0m\n",
            "\u001b[0;31mKeyboardInterrupt\u001b[0m: ",
            "\nDuring handling of the above exception, another exception occurred:\n",
            "\u001b[0;31mKeyboardInterrupt\u001b[0m                         Traceback (most recent call last)",
            "\u001b[0;32m<ipython-input-19-8fc424573600>\u001b[0m in \u001b[0;36m<module>\u001b[0;34m()\u001b[0m\n\u001b[1;32m      2\u001b[0m \u001b[0;34m\u001b[0m\u001b[0m\n\u001b[1;32m      3\u001b[0m \u001b[0;32mwhile\u001b[0m \u001b[0;32mTrue\u001b[0m\u001b[0;34m:\u001b[0m\u001b[0;34m\u001b[0m\u001b[0;34m\u001b[0m\u001b[0m\n\u001b[0;32m----> 4\u001b[0;31m     \u001b[0mfruit\u001b[0m \u001b[0;34m=\u001b[0m \u001b[0minput\u001b[0m\u001b[0;34m(\u001b[0m\u001b[0;34m\"請輸入喜歡的水果(Enter 結束)：\"\u001b[0m\u001b[0;34m)\u001b[0m\u001b[0;34m\u001b[0m\u001b[0;34m\u001b[0m\u001b[0m\n\u001b[0m\u001b[1;32m      5\u001b[0m \u001b[0;34m\u001b[0m\u001b[0m\n\u001b[1;32m      6\u001b[0m   \u001b[0;31m#  if (fruit==\"\"):\u001b[0m\u001b[0;34m\u001b[0m\u001b[0;34m\u001b[0m\u001b[0;34m\u001b[0m\u001b[0m\n",
            "\u001b[0;32m/usr/local/lib/python3.6/dist-packages/ipykernel/kernelbase.py\u001b[0m in \u001b[0;36mraw_input\u001b[0;34m(self, prompt)\u001b[0m\n\u001b[1;32m    702\u001b[0m             \u001b[0mself\u001b[0m\u001b[0;34m.\u001b[0m\u001b[0m_parent_ident\u001b[0m\u001b[0;34m,\u001b[0m\u001b[0;34m\u001b[0m\u001b[0;34m\u001b[0m\u001b[0m\n\u001b[1;32m    703\u001b[0m             \u001b[0mself\u001b[0m\u001b[0;34m.\u001b[0m\u001b[0m_parent_header\u001b[0m\u001b[0;34m,\u001b[0m\u001b[0;34m\u001b[0m\u001b[0;34m\u001b[0m\u001b[0m\n\u001b[0;32m--> 704\u001b[0;31m             \u001b[0mpassword\u001b[0m\u001b[0;34m=\u001b[0m\u001b[0;32mFalse\u001b[0m\u001b[0;34m,\u001b[0m\u001b[0;34m\u001b[0m\u001b[0;34m\u001b[0m\u001b[0m\n\u001b[0m\u001b[1;32m    705\u001b[0m         )\n\u001b[1;32m    706\u001b[0m \u001b[0;34m\u001b[0m\u001b[0m\n",
            "\u001b[0;32m/usr/local/lib/python3.6/dist-packages/ipykernel/kernelbase.py\u001b[0m in \u001b[0;36m_input_request\u001b[0;34m(self, prompt, ident, parent, password)\u001b[0m\n\u001b[1;32m    732\u001b[0m             \u001b[0;32mexcept\u001b[0m \u001b[0mKeyboardInterrupt\u001b[0m\u001b[0;34m:\u001b[0m\u001b[0;34m\u001b[0m\u001b[0;34m\u001b[0m\u001b[0m\n\u001b[1;32m    733\u001b[0m                 \u001b[0;31m# re-raise KeyboardInterrupt, to truncate traceback\u001b[0m\u001b[0;34m\u001b[0m\u001b[0;34m\u001b[0m\u001b[0;34m\u001b[0m\u001b[0m\n\u001b[0;32m--> 734\u001b[0;31m                 \u001b[0;32mraise\u001b[0m \u001b[0mKeyboardInterrupt\u001b[0m\u001b[0;34m\u001b[0m\u001b[0;34m\u001b[0m\u001b[0m\n\u001b[0m\u001b[1;32m    735\u001b[0m             \u001b[0;32melse\u001b[0m\u001b[0;34m:\u001b[0m\u001b[0;34m\u001b[0m\u001b[0;34m\u001b[0m\u001b[0m\n\u001b[1;32m    736\u001b[0m                 \u001b[0;32mbreak\u001b[0m\u001b[0;34m\u001b[0m\u001b[0;34m\u001b[0m\u001b[0m\n",
            "\u001b[0;31mKeyboardInterrupt\u001b[0m: "
          ]
        }
      ]
    },
    {
      "cell_type": "markdown",
      "metadata": {
        "id": "2ZUsSavZfax9"
      },
      "source": [
        "# [5]continue 指令 \n",
        "```\n",
        "在廻圈執行中途暫時停住不往下執行，而跳到廻圈的起始處繼續執行\n",
        "```\n",
        "```\n",
        "撰寫一個可以排除數列中 5 的倍數的程式\n",
        "\n",
        "輸入::一個正整數 n\n",
        "輸出::\n",
        "使用者只要輸入一個正整數，\n",
        "程式會顯示由 1 到該整數的整數數列，但會將 5 的倍數排除\n",
        "```\n",
        "```\n",
        "n = int(input(\"請輸入正整數：\"))\n",
        "\n",
        "for i in range(1, n+1):\n",
        "    if i % 5 ==0:\n",
        "        continue\n",
        "    print(i,end=\" \")\n",
        "```"
      ]
    },
    {
      "cell_type": "code",
      "metadata": {
        "colab": {
          "base_uri": "https://localhost:8080/"
        },
        "id": "ysjJx5iXaS01",
        "outputId": "11b55f74-8aa1-4aa1-bc7c-80fa0608d7e6"
      },
      "source": [
        "n = int(input(\"請輸入正整數：\"))\n",
        " \n",
        "for i in range(1, n+1):\n",
        "    if i % 5 ==0:\n",
        "        continue\n",
        "    print(i,end=\" \")"
      ],
      "execution_count": null,
      "outputs": [
        {
          "output_type": "stream",
          "text": [
            "請輸入正整數：2\n",
            "1 2 "
          ],
          "name": "stdout"
        }
      ]
    },
    {
      "cell_type": "markdown",
      "metadata": {
        "id": "eBEuRBWrfedb"
      },
      "source": [
        "### [程式設計題]\n",
        "```\n",
        "完成程式撰寫\n",
        "輸入一個正整數n\n",
        "列出小於n的 7倍數\n",
        "\n",
        "例如:輸入22\n",
        "輸出 7, 14, 21\n",
        "```"
      ]
    },
    {
      "cell_type": "code",
      "metadata": {
        "id": "NknBqXjXiVrk",
        "colab": {
          "base_uri": "https://localhost:8080/"
        },
        "outputId": "cc9af4cb-0c3e-4c2f-b102-1de4f27896a8"
      },
      "source": [
        "n = int(input(\"請輸入正整數：\"))\n",
        " \n",
        "for i in range(1, n):\n",
        "    if i % 7 !=0:\n",
        "        continue\n",
        "    print(i,end=\" \")"
      ],
      "execution_count": null,
      "outputs": [
        {
          "output_type": "stream",
          "text": [
            "請輸入正整數：3\n"
          ],
          "name": "stdout"
        }
      ]
    },
    {
      "cell_type": "markdown",
      "metadata": {
        "id": "Wis8JxoMfphw"
      },
      "source": [
        "# 小小測驗:\n",
        "### [程式閱讀題] \n",
        "底下程式執行的結果為何?請說明其邏輯\n",
        "```\n",
        "#!/usr/bin/python\n",
        "# -*- coding: UTF-8 -*-\n",
        " \n",
        "for i in range(1,6):\n",
        "    for j in range(1,5):\n",
        "        for k in range(1,7):\n",
        "            if( i != k ) and (i != j) and (j != k):\n",
        "                print(i,j,k)\n",
        "```"
      ]
    },
    {
      "cell_type": "code",
      "metadata": {
        "colab": {
          "base_uri": "https://localhost:8080/"
        },
        "id": "5DQU5eZgarE2",
        "outputId": "bbaa81f5-f0ad-4580-9fa5-1dc55aa9b761"
      },
      "source": [
        "# !/usr/bin/python\n",
        "# -*- coding: UTF-8 -*-\n",
        " \n",
        "for i in range(1,6):\n",
        "    for j in range(1,5):\n",
        "        for k in range(1,7):\n",
        "            if( i != k ) and (i != j) and (j != k):\n",
        "                print(i,j,k)\n"
      ],
      "execution_count": null,
      "outputs": [
        {
          "output_type": "stream",
          "text": [
            "1 2 3\n",
            "1 2 4\n",
            "1 2 5\n",
            "1 2 6\n",
            "1 3 2\n",
            "1 3 4\n",
            "1 3 5\n",
            "1 3 6\n",
            "1 4 2\n",
            "1 4 3\n",
            "1 4 5\n",
            "1 4 6\n",
            "2 1 3\n",
            "2 1 4\n",
            "2 1 5\n",
            "2 1 6\n",
            "2 3 1\n",
            "2 3 4\n",
            "2 3 5\n",
            "2 3 6\n",
            "2 4 1\n",
            "2 4 3\n",
            "2 4 5\n",
            "2 4 6\n",
            "3 1 2\n",
            "3 1 4\n",
            "3 1 5\n",
            "3 1 6\n",
            "3 2 1\n",
            "3 2 4\n",
            "3 2 5\n",
            "3 2 6\n",
            "3 4 1\n",
            "3 4 2\n",
            "3 4 5\n",
            "3 4 6\n",
            "4 1 2\n",
            "4 1 3\n",
            "4 1 5\n",
            "4 1 6\n",
            "4 2 1\n",
            "4 2 3\n",
            "4 2 5\n",
            "4 2 6\n",
            "4 3 1\n",
            "4 3 2\n",
            "4 3 5\n",
            "4 3 6\n",
            "5 1 2\n",
            "5 1 3\n",
            "5 1 4\n",
            "5 1 6\n",
            "5 2 1\n",
            "5 2 3\n",
            "5 2 4\n",
            "5 2 6\n",
            "5 3 1\n",
            "5 3 2\n",
            "5 3 4\n",
            "5 3 6\n",
            "5 4 1\n",
            "5 4 2\n",
            "5 4 3\n",
            "5 4 6\n"
          ],
          "name": "stdout"
        }
      ]
    },
    {
      "cell_type": "markdown",
      "metadata": {
        "id": "PSbI2uNcfrYf"
      },
      "source": [
        "底下程式執行結果為何?\n",
        "```\n",
        "for x in range(19):\n",
        "  print(x)\n",
        "```"
      ]
    },
    {
      "cell_type": "code",
      "metadata": {
        "colab": {
          "base_uri": "https://localhost:8080/"
        },
        "id": "TzbniEuQauSf",
        "outputId": "c7276ec7-e878-40a7-a64b-fa7f6fac7b03"
      },
      "source": [
        "for x in range(19):\n",
        "  print(x)"
      ],
      "execution_count": null,
      "outputs": [
        {
          "output_type": "stream",
          "text": [
            "0\n",
            "1\n",
            "2\n",
            "3\n",
            "4\n",
            "5\n",
            "6\n",
            "7\n",
            "8\n",
            "9\n",
            "10\n",
            "11\n",
            "12\n",
            "13\n",
            "14\n",
            "15\n",
            "16\n",
            "17\n",
            "18\n"
          ],
          "name": "stdout"
        }
      ]
    },
    {
      "cell_type": "markdown",
      "metadata": {
        "id": "R9iakcMAftmZ"
      },
      "source": [
        "底下程式執行後結果為何?\n",
        "```\n",
        "for x in range(0,19,2):\n",
        "  print(x)\n",
        "```"
      ]
    },
    {
      "cell_type": "code",
      "metadata": {
        "colab": {
          "base_uri": "https://localhost:8080/"
        },
        "id": "kUDR6YrLa0Uy",
        "outputId": "1eac5948-1cc4-4784-fe28-ba099511754a"
      },
      "source": [
        "for x in range(0,19,2):\n",
        "  print(x)"
      ],
      "execution_count": null,
      "outputs": [
        {
          "output_type": "stream",
          "text": [
            "0\n",
            "2\n",
            "4\n",
            "6\n",
            "8\n",
            "10\n",
            "12\n",
            "14\n",
            "16\n",
            "18\n"
          ],
          "name": "stdout"
        }
      ]
    },
    {
      "cell_type": "markdown",
      "metadata": {
        "id": "djm4wUIqfv9O"
      },
      "source": [
        "底下程式執行後結果為何?\n",
        "```\n",
        "for x in range(20,11,-1):\n",
        "  print(x)\n",
        "```"
      ]
    },
    {
      "cell_type": "code",
      "metadata": {
        "colab": {
          "base_uri": "https://localhost:8080/"
        },
        "id": "VoRJZ78ya1lt",
        "outputId": "0d872aaf-fef6-4dbc-e75a-0a933566175e"
      },
      "source": [
        "for x in range(20,11,-1):\n",
        "  print(x)"
      ],
      "execution_count": null,
      "outputs": [
        {
          "output_type": "stream",
          "text": [
            "20\n",
            "19\n",
            "18\n",
            "17\n",
            "16\n",
            "15\n",
            "14\n",
            "13\n",
            "12\n"
          ],
          "name": "stdout"
        }
      ]
    },
    {
      "cell_type": "markdown",
      "metadata": {
        "id": "3vt7kjm2fx2u"
      },
      "source": [
        "底下程式執行後結果為何?\n",
        "```\n",
        "for x in range(0,19,-1):\n",
        "  print(x)\n",
        "```"
      ]
    },
    {
      "cell_type": "code",
      "metadata": {
        "id": "NSpCcXCWa2vh"
      },
      "source": [
        "for x in range(0,19,-1):\n",
        "  print(x)"
      ],
      "execution_count": null,
      "outputs": []
    },
    {
      "cell_type": "markdown",
      "metadata": {
        "id": "8mHFGbUCf0yL"
      },
      "source": [
        "底下程式執行後結果為何?\n",
        "```\n",
        "output = ''\n",
        "\n",
        "for x in range(0,19,3):\n",
        "  output += str(x)\n",
        "  print(output, end=\" \")\n",
        "```"
      ]
    },
    {
      "cell_type": "code",
      "metadata": {
        "colab": {
          "base_uri": "https://localhost:8080/"
        },
        "id": "jX1CvYZPa35G",
        "outputId": "5b64b421-8866-4759-b278-504c95af259d"
      },
      "source": [
        "output = ''\n",
        " \n",
        "for x in range(0,19,3):\n",
        "  output += str(x)\n",
        "  print(output, end=\" \")"
      ],
      "execution_count": null,
      "outputs": [
        {
          "output_type": "stream",
          "text": [
            "0 03 036 0369 036912 03691215 0369121518 "
          ],
          "name": "stdout"
        }
      ]
    },
    {
      "cell_type": "markdown",
      "metadata": {
        "id": "D1zJr61uf2ml"
      },
      "source": [
        "底下程式執行後結果為何?\n",
        "```\n",
        "output = ''\n",
        "\n",
        "for x in range(0,19,3):\n",
        "  print(x, end=\" \")\n",
        "```"
      ]
    },
    {
      "cell_type": "code",
      "metadata": {
        "colab": {
          "base_uri": "https://localhost:8080/"
        },
        "id": "ioqh8GaobBkm",
        "outputId": "6ae025ff-091e-4346-a1d4-b9ebabe60d50"
      },
      "source": [
        "output = ''\n",
        " \n",
        "for x in range(0,19,3):\n",
        "  print(x, end=\" \")"
      ],
      "execution_count": null,
      "outputs": [
        {
          "output_type": "stream",
          "text": [
            "0 3 6 9 12 15 18 "
          ],
          "name": "stdout"
        }
      ]
    },
    {
      "cell_type": "markdown",
      "metadata": {
        "id": "PCiNEpPxf4dH"
      },
      "source": [
        "底下程式執行後結果為何?\n",
        "```\n",
        "list1 = range(0,19,3)\n",
        "\n",
        "for x in list1:\n",
        "  print(x, end=\" \")\n",
        "```"
      ]
    },
    {
      "cell_type": "code",
      "metadata": {
        "colab": {
          "base_uri": "https://localhost:8080/"
        },
        "id": "H143UEtIbC-E",
        "outputId": "5d7c6c62-0c69-4214-dc52-0a6d0dc7b843"
      },
      "source": [
        "list1 = range(0,19,3)\n",
        " \n",
        "for x in list1:\n",
        "  print(x, end=\" \")"
      ],
      "execution_count": null,
      "outputs": [
        {
          "output_type": "stream",
          "text": [
            "0 3 6 9 12 15 18 "
          ],
          "name": "stdout"
        }
      ]
    },
    {
      "cell_type": "markdown",
      "metadata": {
        "id": "qz9w1yVif72o"
      },
      "source": [
        "### [程式閱讀題] 下列程式輸入淨利潤為11111時請問輸出為何?\"\"\"\n",
        "```\n",
        "#!/usr/bin/python\n",
        "# -*- coding: UTF-8 -*-\n",
        " \n",
        "i = int(input('淨利潤:'))\n",
        "\n",
        "arr = [1000000,600000,400000,200000,100000,0]\n",
        "rat = [0.01,0.015,0.03,0.05,0.075,0.1]\n",
        "r = 0\n",
        "\n",
        "for idx in range(0,6):\n",
        "    if i>arr[idx]:\n",
        "        r+=(i-arr[idx])*rat[idx]\n",
        "        print((i-arr[idx])*rat[idx])\n",
        "        i=arr[idx]\n",
        "\n",
        "print(r)\n",
        "```"
      ]
    },
    {
      "cell_type": "code",
      "metadata": {
        "colab": {
          "base_uri": "https://localhost:8080/"
        },
        "id": "yKQeVgv6bFbg",
        "outputId": "f28887e9-2b4d-4d86-e6d6-0321e5eb887d"
      },
      "source": [
        "# !/usr/bin/python\n",
        "# -*- coding: UTF-8 -*-\n",
        " \n",
        "i = int(input('淨利潤:'))\n",
        " \n",
        "arr = [1000000,600000,400000,200000,100000,0]\n",
        "rat = [0.01,0.015,0.03,0.05,0.075,0.1]\n",
        "r = 0\n",
        " \n",
        "for idx in range(0,6):\n",
        "    if i>arr[idx]:\n",
        "        r+=(i-arr[idx])*rat[idx]\n",
        "        print((i-arr[idx])*rat[idx])\n",
        "        i=arr[idx]\n",
        " \n",
        "print(r)"
      ],
      "execution_count": null,
      "outputs": [
        {
          "output_type": "stream",
          "text": [
            "淨利潤:25000\n",
            "2500.0\n",
            "2500.0\n"
          ],
          "name": "stdout"
        }
      ]
    },
    {
      "cell_type": "markdown",
      "metadata": {
        "id": "scWOvtyYtoPZ"
      },
      "source": [
        "\n",
        "# [6]巢狀廻圈Nested Loop[自主學習主題]\n",
        "```\n",
        "廻圈中又包含廻圈的巢狀廻圈　\n",
        "\n",
        "留給你當作業：九九乘法表\n",
        "```"
      ]
    },
    {
      "cell_type": "code",
      "metadata": {
        "id": "ZF8fD2sKjpWn",
        "colab": {
          "base_uri": "https://localhost:8080/"
        },
        "outputId": "9e7322cd-e1c0-4a97-d0af-a9c31de1a6c1"
      },
      "source": [
        "for j in range(1,10):\n",
        "  for i in range(1,9):\n",
        "    print(\"%s * %s = %2d\" %(i, j, i * j), end = \"  \")\n",
        "  print()"
      ],
      "execution_count": null,
      "outputs": [
        {
          "output_type": "stream",
          "text": [
            "1 * 1 =  1  2 * 1 =  2  3 * 1 =  3  4 * 1 =  4  5 * 1 =  5  6 * 1 =  6  7 * 1 =  7  8 * 1 =  8  \n",
            "1 * 2 =  2  2 * 2 =  4  3 * 2 =  6  4 * 2 =  8  5 * 2 = 10  6 * 2 = 12  7 * 2 = 14  8 * 2 = 16  \n",
            "1 * 3 =  3  2 * 3 =  6  3 * 3 =  9  4 * 3 = 12  5 * 3 = 15  6 * 3 = 18  7 * 3 = 21  8 * 3 = 24  \n",
            "1 * 4 =  4  2 * 4 =  8  3 * 4 = 12  4 * 4 = 16  5 * 4 = 20  6 * 4 = 24  7 * 4 = 28  8 * 4 = 32  \n",
            "1 * 5 =  5  2 * 5 = 10  3 * 5 = 15  4 * 5 = 20  5 * 5 = 25  6 * 5 = 30  7 * 5 = 35  8 * 5 = 40  \n",
            "1 * 6 =  6  2 * 6 = 12  3 * 6 = 18  4 * 6 = 24  5 * 6 = 30  6 * 6 = 36  7 * 6 = 42  8 * 6 = 48  \n",
            "1 * 7 =  7  2 * 7 = 14  3 * 7 = 21  4 * 7 = 28  5 * 7 = 35  6 * 7 = 42  7 * 7 = 49  8 * 7 = 56  \n",
            "1 * 8 =  8  2 * 8 = 16  3 * 8 = 24  4 * 8 = 32  5 * 8 = 40  6 * 8 = 48  7 * 8 = 56  8 * 8 = 64  \n",
            "1 * 9 =  9  2 * 9 = 18  3 * 9 = 27  4 * 9 = 36  5 * 9 = 45  6 * 9 = 54  7 * 9 = 63  8 * 9 = 72  \n"
          ],
          "name": "stdout"
        }
      ]
    },
    {
      "cell_type": "markdown",
      "metadata": {
        "id": "6cOnGppD9SZx"
      },
      "source": [
        "### for \"j\" in range(1,10):\r\n",
        "```\r\n",
        "從第一位\"1\"開始算到第十位\"9\"__被乘數\r\n",
        "```\r\n",
        "### for i in range(1,9):\r\n",
        "```\r\n",
        "從第一位\"1\"開始算到第九位\"8\"__乘數\r\n",
        "```"
      ]
    },
    {
      "cell_type": "markdown",
      "metadata": {
        "id": "m7oFrSr382e4"
      },
      "source": [
        "#我的筆記\r\n",
        "__________________________________\r\n",
        "#1.筆記\r\n",
        "##變數1 = range(整數值)\r\n",
        "###list1=range(10) \r\n",
        "###print(list1) \r\n",
        "###print(list(list1))\r\n",
        "```\r\n",
        "執行結果如下:range(0, 10)\r\n",
        "      [0, 1, 2, 3, 4, 5, 6, 7, 8, 9]\r\n",
        "      \r\n",
        "\"0\"是第零位,\"9\"是第十位\r\n",
        "```\r\n",
        "__________________________________\r\n",
        "#2.筆記\r\n",
        "##變數2 = range(起始值, 終止值)\r\n",
        "###list2=range(-4,5)   \r\n",
        "###print(list(list2))\r\n",
        "```\r\n",
        "執行結果:[-4, -3, -2, -1, 0, 1, 2, 3, 4]\r\n",
        "\r\n",
        "\"-4\"起始,\"5\"終止  \"5\"不顯示\r\n",
        "```\r\n",
        "__________________________________\r\n",
        "#3.筆記\r\n",
        "##變數3 = range(起始值, 終止值, 多少間隔) \r\n",
        "###list3=range(-4,5,2)\r\n",
        "###print(list(list3))\r\n",
        "```\r\n",
        "執行結果:[-4, -2, 0, 2, 4]\r\n",
        "\r\n",
        "\"-4\"=起始值\r\n",
        "\r\n",
        "\"5\"=終止值\r\n",
        "\r\n",
        "\"2\"=多少間隔\r\n",
        "```\r\n",
        "__________________________________\r\n",
        "#4.筆記\r\n",
        "###for n in range(5):\r\n",
        "###print(n)\r\n",
        "```\r\n",
        "執行結果: \r\n",
        "  0\r\n",
        "  1\r\n",
        "  2\r\n",
        "  3\r\n",
        "  4\r\n",
        "以\"0\"為(第零位),\"4\"為(第五位)\r\n",
        "```\r\n",
        "__________________________________\r\n",
        "#5.筆記\r\n",
        "###for n in range(10):\r\n",
        "###print(n, end='@')\r\n",
        "###(#)print(n, end='%%%%')\r\n",
        "```\r\n",
        "在0123456789共10位裡面間隔中間加入@\r\n",
        "也可以擇一,總之就是加入符號\r\n",
        "```\r\n",
        "__________________________________\r\n",
        "#6.筆記\r\n",
        "###total = i = 1\r\n",
        " \r\n",
        "###n = int(input(\"請輸入正整數 n 的值：\"))\r\n",
        " \r\n",
        "###while(i<=n):\r\n",
        "###    total *= i  \r\n",
        "###    i+=1      \r\n",
        " \r\n",
        "###print(\"%d!=%d\" % (n, total))\r\n",
        "```\r\n",
        "此程式碼是計算出5!(階層)\r\n",
        "\r\n",
        "參考有關\"%d\"語法網址:\r\n",
        "https://officeguide.cc/python-string-formatters-tutorial/\r\n",
        "```\r\n",
        "__________________________________\r\n",
        "#7.筆記\r\n",
        "###for j in range(1,10):\r\n",
        "###  for i in range(1,9):\r\n",
        "###    print(\"%s * %s = %2d\" %(i, j, i * j), end = \"  \")\r\n",
        "###  print()\r\n",
        "```\r\n",
        " for \"j\" in range(1,10):\r\n",
        "\r\n",
        "從第一位\"1\"開始算到第十位\"9\"__被乘數\r\n",
        "____________________________________\r\n",
        " for i in range(1,9):\r\n",
        "\r\n",
        "從第一位\"1\"開始算到第九位\"8\"__乘數\r\n",
        "```\r\n",
        "__________________________________\r\n",
        "\r\n",
        "#8.筆記\r\n",
        "###output = ''\r\n",
        " \r\n",
        "###for x in range(0,19,3):\r\n",
        "###  output += str(x)\r\n",
        "###  print(output, end=\" \")\r\n",
        "```\r\n",
        "0=起始值\r\n",
        "\r\n",
        "19=終止值(不會顯示19)\r\n",
        "\r\n",
        "3=多少間隔\r\n",
        "\r\n",
        "且此程式碼會重複顯示上一個出現過的數字在以此類推\r\n",
        "```\r\n",
        "__________________________________\r\n",
        "\r\n",
        "#9.筆記_接上述\r\n",
        "###list1 = range(0,19,3)\r\n",
        " \r\n",
        "###for x in list1:\r\n",
        "###  print(x, end=\" \")\r\n",
        "```\r\n",
        "跟上述一樣，只差在沒有顯示重複上一個數字\r\n",
        "\r\n",
        "0 3 6 9 12 15 18 \r\n",
        "```\r\n",
        "__________________________________\r\n",
        "\r\n",
        "#10.筆記\r\n",
        "###for x in range(0,19,2):\r\n",
        "###  print(x)\r\n",
        "```\r\n",
        "2的倍數，語法跟上述差不多，但一樣19不會顯示\r\n",
        "\r\n",
        "0\r\n",
        "2\r\n",
        "4\r\n",
        "6\r\n",
        "8\r\n",
        "10\r\n",
        "12\r\n",
        "14\r\n",
        "16\r\n",
        "18\r\n",
        "```\r\n",
        "__________________________________"
      ]
    }
  ]
}