{
  "nbformat": 4,
  "nbformat_minor": 0,
  "metadata": {
    "colab": {
      "name": "我的筆記_2_0_資料型態(data_Type)及其各種運算教學版_20201026.ipynb",
      "provenance": []
    },
    "kernelspec": {
      "name": "python3",
      "display_name": "Python 3"
    }
  },
  "cells": [
    {
      "cell_type": "code",
      "metadata": {
        "colab": {
          "base_uri": "https://localhost:8080/"
        },
        "id": "PqFB6MRHoi1J",
        "outputId": "c6dea49f-9136-42a5-9ab5-74b45883699f"
      },
      "source": [
        "a = 17 / 3\n",
        "b = 17 // 3\n",
        "c = 17 % 3\n",
        "\n",
        "a,b,c"
      ],
      "execution_count": null,
      "outputs": [
        {
          "output_type": "execute_result",
          "data": {
            "text/plain": [
              "(5.666666666666667, 5, 2)"
            ]
          },
          "metadata": {
            "tags": []
          },
          "execution_count": 1
        }
      ]
    },
    {
      "cell_type": "code",
      "metadata": {
        "colab": {
          "base_uri": "https://localhost:8080/"
        },
        "id": "MBheNSgVo17i",
        "outputId": "90212ad0-a777-4a2f-8291-56f22cdc0ae7"
      },
      "source": [
        "var1 = 'Hello Python!'\n",
        "\n",
        "print(var1[0:6] , 'world')\n"
      ],
      "execution_count": null,
      "outputs": [
        {
          "output_type": "stream",
          "text": [
            "Hello  world\n"
          ],
          "name": "stdout"
        }
      ]
    },
    {
      "cell_type": "code",
      "metadata": {
        "colab": {
          "base_uri": "https://localhost:8080/"
        },
        "id": "jXn-PiFTpA4x",
        "outputId": "f1f1f2b4-dcd1-44ba-97bb-120b8484adca"
      },
      "source": [
        "list1 = [21, 33, 14, 12, 32, 98]\n",
        "\n",
        "list1[1]"
      ],
      "execution_count": null,
      "outputs": [
        {
          "output_type": "execute_result",
          "data": {
            "text/plain": [
              "33"
            ]
          },
          "metadata": {
            "tags": []
          },
          "execution_count": 4
        }
      ]
    },
    {
      "cell_type": "code",
      "metadata": {
        "colab": {
          "base_uri": "https://localhost:8080/"
        },
        "id": "zofcTHLGpFiZ",
        "outputId": "06ffde44-4b3f-428a-a882-11958f30e688"
      },
      "source": [
        "list1 = [21, 33, 14, 12, 32, 98]\n",
        "\n",
        "list1[-2]"
      ],
      "execution_count": null,
      "outputs": [
        {
          "output_type": "execute_result",
          "data": {
            "text/plain": [
              "32"
            ]
          },
          "metadata": {
            "tags": []
          },
          "execution_count": 5
        }
      ]
    },
    {
      "cell_type": "code",
      "metadata": {
        "colab": {
          "base_uri": "https://localhost:8080/"
        },
        "id": "e5c9xxMzpIxg",
        "outputId": "76fa53ae-d451-456b-ec4e-2303bafd5431"
      },
      "source": [
        "len(list1)"
      ],
      "execution_count": null,
      "outputs": [
        {
          "output_type": "execute_result",
          "data": {
            "text/plain": [
              "6"
            ]
          },
          "metadata": {
            "tags": []
          },
          "execution_count": 6
        }
      ]
    },
    {
      "cell_type": "code",
      "metadata": {
        "colab": {
          "base_uri": "https://localhost:8080/"
        },
        "id": "alwWZlp0pKWG",
        "outputId": "130618a0-bc86-4ea8-a6c2-0d2bc01da29a"
      },
      "source": [
        "max(list1)"
      ],
      "execution_count": null,
      "outputs": [
        {
          "output_type": "execute_result",
          "data": {
            "text/plain": [
              "98"
            ]
          },
          "metadata": {
            "tags": []
          },
          "execution_count": 7
        }
      ]
    },
    {
      "cell_type": "code",
      "metadata": {
        "colab": {
          "base_uri": "https://localhost:8080/"
        },
        "id": "57_JkQkRpNNT",
        "outputId": "f8111ba0-a1a1-4d0c-9b12-90ae1272ddda"
      },
      "source": [
        "min(list1)"
      ],
      "execution_count": null,
      "outputs": [
        {
          "output_type": "execute_result",
          "data": {
            "text/plain": [
              "12"
            ]
          },
          "metadata": {
            "tags": []
          },
          "execution_count": 8
        }
      ]
    },
    {
      "cell_type": "code",
      "metadata": {
        "colab": {
          "base_uri": "https://localhost:8080/"
        },
        "id": "2wIYMR80pO4J",
        "outputId": "2401230d-2fe1-457a-a033-6710a7c014a9"
      },
      "source": [
        "sum(list1)"
      ],
      "execution_count": null,
      "outputs": [
        {
          "output_type": "execute_result",
          "data": {
            "text/plain": [
              "210"
            ]
          },
          "metadata": {
            "tags": []
          },
          "execution_count": 9
        }
      ]
    },
    {
      "cell_type": "markdown",
      "metadata": {
        "id": "GI_xRDXypVNO"
      },
      "source": [
        "#字典的每筆資料都使用key(鍵)=>value(值) pair(對)\n",
        "#每筆資料都使用冒號 : 分割\n",
        "#每對之間用逗號(,)分割，\n",
        "#整個字典包括在花括弧 {}"
      ]
    },
    {
      "cell_type": "code",
      "metadata": {
        "colab": {
          "base_uri": "https://localhost:8080/"
        },
        "id": "KfV0pPuapk1B",
        "outputId": "1061db77-32ef-46ba-f34e-85386ea3c5a7"
      },
      "source": [
        "dict = {'Name': 'DaDaLong', 'Age': 17, 'Class': 'First'}\n",
        "\n",
        "print(\"dict['Name']: \", dict['Name'])\n",
        "print(\"dict['Age']: \", dict['Age'])"
      ],
      "execution_count": null,
      "outputs": [
        {
          "output_type": "stream",
          "text": [
            "dict['Name']:  DaDaLong\n",
            "dict['Age']:  17\n"
          ],
          "name": "stdout"
        }
      ]
    },
    {
      "cell_type": "code",
      "metadata": {
        "colab": {
          "base_uri": "https://localhost:8080/"
        },
        "id": "daMVvOlzpnky",
        "outputId": "36344742-a41c-489e-9776-db5306f5e7e2"
      },
      "source": [
        "dict = {'Name': 'DaDaLong', 'Age': 17, 'Class': 'First'}\n",
        "dict.items()"
      ],
      "execution_count": null,
      "outputs": [
        {
          "output_type": "execute_result",
          "data": {
            "text/plain": [
              "dict_items([('Name', 'DaDaLong'), ('Age', 17), ('Class', 'First')])"
            ]
          },
          "metadata": {
            "tags": []
          },
          "execution_count": 11
        }
      ]
    },
    {
      "cell_type": "markdown",
      "metadata": {
        "id": "r9Uq3pNSz7po"
      },
      "source": [
        "# 我的筆記\r\n",
        "__________________________________\r\n",
        "# a = 17 / 3 , b = 17 // 3 , c = 17 % 3\r\n",
        "```\r\n",
        "/=除以計算--5.666666666666667\r\n",
        "//=取整數--5\r\n",
        "%=取餘數--2\r\n",
        "\r\n",
        "結果:(5.666666666666667, 5, 2)\r\n",
        "\r\n",
        "```\r\n",
        "__________________________________\r\n",
        "# var1 = 'Hello Python!'\r\n",
        "\r\n",
        "#print(var1[0:6] , 'world')\r\n",
        "```\r\n",
        "varl[0:6]=第0個是H\"開始\",o後面的空格所以是第6個字元\"結束\"\r\n",
        "\r\n",
        "'world'=Hello+' '<--- world\r\n",
        "\r\n",
        "執行後:\"Hello world\"\r\n",
        "```\r\n",
        "__________________________________\r\n",
        "# list1 = [21, 33, 14, 12, 32, 98]\r\n",
        "\r\n",
        "# list1[1]\r\n",
        "```\r\n",
        "list1[0]=21\r\n",
        "  ||    以此類推\r\n",
        "list1[1]=33\r\n",
        "\r\n",
        "```\r\n",
        "__________________________________\r\n",
        "# list1 = [21, 33, 14, 12, 32, 98]\r\n",
        "\r\n",
        "# list1[-2]\r\n",
        "```\r\n",
        "list1[-2]=0是\"21\"所以負號往後面算是\"32\"\r\n",
        "```\r\n",
        "__________________________________\r\n",
        "# len(list1)--->取出\"list1\"所有的字串數量\r\n",
        "\r\n",
        "```\r\n",
        "list1裡面共有六個字串\r\n",
        "\r\n",
        "所以執行結果是\"6\"\r\n",
        "```\r\n",
        "__________________________________\r\n",
        "# max(list1)--->最大值\r\n",
        "```\r\n",
        "取出list1裡面的\"最大值\"\r\n",
        "```\r\n",
        "__________________________________\r\n",
        "# min(list1)--->最小值\r\n",
        "```\r\n",
        "取出list1裡面的\"最小值\"\r\n",
        "```\r\n",
        "__________________________________\r\n",
        "# sum(list1)--->總和值\r\n",
        "```\r\n",
        "取出list1裡面所有加總和得出的\"值\"\r\n",
        "```\r\n",
        "__________________________________\r\n",
        "# 網址:https://ithelp.ithome.com.tw/articles/10214139\r\n",
        "```\r\n",
        "認識max(), min(), len(),sorted(),sum(),abs(), pow()\r\n",
        "```\r\n",
        "__________________________________\r\n",
        "# dict = {'Name': 'DaDaLong', 'Age': 17, 'Class': 'First'}\r\n",
        "# print(\"dict['Name']: \", dict['Name'])\r\n",
        "# print(\"dict['Age']: \", dict['Age'])\r\n",
        "```\r\n",
        "執行結果如下--->dict['Name']: DaDaLong\r\n",
        "        dict['Age']: 17\r\n",
        "\r\n",
        "打印:print  只執行包含print字串將其印出        \r\n",
        "```\r\n",
        "__________________________________\r\n",
        "# dict = {'Name': 'DaDaLong', 'Age': 17, 'Class': 'First'}\r\n",
        "# dict.items()\r\n",
        "```\r\n",
        "執行結果如下--->dict_items(('Name', 'DaDaLong'), ('Age', 17), ('Class', 'First'))\r\n",
        "\r\n",
        "執行出dict(字典)裡面所有的\"項目\",{ }<---列出裡面的字\r\n",
        "```\r\n",
        "__________________________________"
      ]
    }
  ]
}